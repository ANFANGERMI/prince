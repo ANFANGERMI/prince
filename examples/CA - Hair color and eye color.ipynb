{
 "cells": [
  {
   "cell_type": "markdown",
   "metadata": {},
   "source": [
    "# Correspondance Analysis - Hair color and eye color\n",
    "\n",
    "Reproducing [Izenman's](http://ce.aut.ac.ir/~shiry/lecture/Advanced%20Machine%20Learning/Manifold_Modern_Multivariate%20Statistical%20Techniques%20-%20Regres.pdf) results from page 638 to page 651."
   ]
  },
  {
   "cell_type": "markdown",
   "metadata": {},
   "source": [
    "## Dataset\n",
    "\n",
    "Let's first initialize the contingency table Izenman calls $N$."
   ]
  },
  {
   "cell_type": "code",
   "execution_count": 6,
   "metadata": {
    "collapsed": false
   },
   "outputs": [
    {
     "data": {
      "text/html": [
       "<div>\n",
       "<table border=\"1\" class=\"dataframe\">\n",
       "  <thead>\n",
       "    <tr style=\"text-align: right;\">\n",
       "      <th></th>\n",
       "      <th>Fair</th>\n",
       "      <th>Red</th>\n",
       "      <th>Medium</th>\n",
       "      <th>Dark</th>\n",
       "      <th>Black</th>\n",
       "    </tr>\n",
       "  </thead>\n",
       "  <tbody>\n",
       "    <tr>\n",
       "      <th>Blue</th>\n",
       "      <td>326</td>\n",
       "      <td>38</td>\n",
       "      <td>241</td>\n",
       "      <td>110</td>\n",
       "      <td>3</td>\n",
       "    </tr>\n",
       "    <tr>\n",
       "      <th>Light</th>\n",
       "      <td>688</td>\n",
       "      <td>116</td>\n",
       "      <td>584</td>\n",
       "      <td>188</td>\n",
       "      <td>4</td>\n",
       "    </tr>\n",
       "    <tr>\n",
       "      <th>Medium</th>\n",
       "      <td>343</td>\n",
       "      <td>84</td>\n",
       "      <td>909</td>\n",
       "      <td>412</td>\n",
       "      <td>26</td>\n",
       "    </tr>\n",
       "    <tr>\n",
       "      <th>Dark</th>\n",
       "      <td>98</td>\n",
       "      <td>48</td>\n",
       "      <td>403</td>\n",
       "      <td>681</td>\n",
       "      <td>85</td>\n",
       "    </tr>\n",
       "  </tbody>\n",
       "</table>\n",
       "</div>"
      ],
      "text/plain": [
       "        Fair  Red  Medium  Dark  Black\n",
       "Blue     326   38     241   110      3\n",
       "Light    688  116     584   188      4\n",
       "Medium   343   84     909   412     26\n",
       "Dark      98   48     403   681     85"
      ]
     },
     "execution_count": 6,
     "metadata": {},
     "output_type": "execute_result"
    }
   ],
   "source": [
    "import pandas as pd\n",
    "\n",
    "hair_colors = ['Fair', 'Red', 'Medium', 'Dark', 'Black']\n",
    "eye_colors = ['Blue', 'Light', 'Medium', 'Dark']\n",
    "values = [\n",
    "    [326, 38, 241, 110, 3],\n",
    "    [688, 116, 584, 188, 4],\n",
    "    [343, 84, 909, 412, 26],\n",
    "    [98, 48, 403, 681, 85]\n",
    "]\n",
    "\n",
    "df = pd.DataFrame(data=values, index=eye_colors, columns=hair_colors)\n",
    "\n",
    "df"
   ]
  },
  {
   "cell_type": "markdown",
   "metadata": {},
   "source": [
    "## Compute the CA"
   ]
  },
  {
   "cell_type": "code",
   "execution_count": 40,
   "metadata": {
    "collapsed": false
   },
   "outputs": [],
   "source": [
    "import prince\n",
    "\n",
    "ca = prince.CA(df, n_components=4)"
   ]
  },
  {
   "cell_type": "markdown",
   "metadata": {},
   "source": [
    "### Row and column sums\n",
    "\n",
    "What Izenman denotes $XX^t$ and $YY^t$ are nothing more than the row and column sums stored in a diagonal matrix."
   ]
  },
  {
   "cell_type": "code",
   "execution_count": 12,
   "metadata": {
    "collapsed": false
   },
   "outputs": [
    {
     "data": {
      "text/plain": [
       "array([[  718.,     0.,     0.,     0.],\n",
       "       [    0.,  1580.,     0.,     0.],\n",
       "       [    0.,     0.,  1774.,     0.],\n",
       "       [    0.,     0.,     0.,  1315.]])"
      ]
     },
     "execution_count": 12,
     "metadata": {},
     "output_type": "execute_result"
    }
   ],
   "source": [
    "import numpy as np\n",
    "\n",
    "np.diag(ca.row_sums * ca.N)"
   ]
  },
  {
   "cell_type": "code",
   "execution_count": 11,
   "metadata": {
    "collapsed": false
   },
   "outputs": [
    {
     "data": {
      "text/plain": [
       "array([[ 1455.,     0.,     0.,     0.,     0.],\n",
       "       [    0.,   286.,     0.,     0.,     0.],\n",
       "       [    0.,     0.,  2137.,     0.,     0.],\n",
       "       [    0.,     0.,     0.,  1391.,     0.],\n",
       "       [    0.,     0.,     0.,     0.,   118.]])"
      ]
     },
     "execution_count": 11,
     "metadata": {},
     "output_type": "execute_result"
    }
   ],
   "source": [
    "np.diag(ca.column_sums * ca.N)"
   ]
  },
  {
   "cell_type": "markdown",
   "metadata": {},
   "source": [
    "### Correspondance matrix"
   ]
  },
  {
   "cell_type": "markdown",
   "metadata": {},
   "source": [
    "$P$ is simply a matrix containing the row/cell frequency."
   ]
  },
  {
   "cell_type": "code",
   "execution_count": 17,
   "metadata": {
    "collapsed": false
   },
   "outputs": [
    {
     "data": {
      "text/html": [
       "<div>\n",
       "<table border=\"1\" class=\"dataframe\">\n",
       "  <thead>\n",
       "    <tr style=\"text-align: right;\">\n",
       "      <th></th>\n",
       "      <th>Fair</th>\n",
       "      <th>Red</th>\n",
       "      <th>Medium</th>\n",
       "      <th>Dark</th>\n",
       "      <th>Black</th>\n",
       "    </tr>\n",
       "  </thead>\n",
       "  <tbody>\n",
       "    <tr>\n",
       "      <th>Blue</th>\n",
       "      <td>0.060516</td>\n",
       "      <td>0.007054</td>\n",
       "      <td>0.044737</td>\n",
       "      <td>0.020420</td>\n",
       "      <td>0.000557</td>\n",
       "    </tr>\n",
       "    <tr>\n",
       "      <th>Light</th>\n",
       "      <td>0.127715</td>\n",
       "      <td>0.021533</td>\n",
       "      <td>0.108409</td>\n",
       "      <td>0.034899</td>\n",
       "      <td>0.000743</td>\n",
       "    </tr>\n",
       "    <tr>\n",
       "      <th>Medium</th>\n",
       "      <td>0.063672</td>\n",
       "      <td>0.015593</td>\n",
       "      <td>0.168740</td>\n",
       "      <td>0.076480</td>\n",
       "      <td>0.004826</td>\n",
       "    </tr>\n",
       "    <tr>\n",
       "      <th>Dark</th>\n",
       "      <td>0.018192</td>\n",
       "      <td>0.008910</td>\n",
       "      <td>0.074810</td>\n",
       "      <td>0.126415</td>\n",
       "      <td>0.015779</td>\n",
       "    </tr>\n",
       "  </tbody>\n",
       "</table>\n",
       "</div>"
      ],
      "text/plain": [
       "            Fair       Red    Medium      Dark     Black\n",
       "Blue    0.060516  0.007054  0.044737  0.020420  0.000557\n",
       "Light   0.127715  0.021533  0.108409  0.034899  0.000743\n",
       "Medium  0.063672  0.015593  0.168740  0.076480  0.004826\n",
       "Dark    0.018192  0.008910  0.074810  0.126415  0.015779"
      ]
     },
     "execution_count": 17,
     "metadata": {},
     "output_type": "execute_result"
    }
   ],
   "source": [
    "ca.P"
   ]
  },
  {
   "cell_type": "markdown",
   "metadata": {},
   "source": [
    "By definition the correspondance matrix sums up to 1."
   ]
  },
  {
   "cell_type": "code",
   "execution_count": 19,
   "metadata": {
    "collapsed": false
   },
   "outputs": [
    {
     "data": {
      "text/plain": [
       "1.0"
      ]
     },
     "execution_count": 19,
     "metadata": {},
     "output_type": "execute_result"
    }
   ],
   "source": [
    "np.sum(ca.P.values)"
   ]
  },
  {
   "cell_type": "markdown",
   "metadata": {},
   "source": [
    "### Row and column profiles\n",
    "\n",
    "The row profiles matrix is obtained by normalizing $P$ by row. "
   ]
  },
  {
   "cell_type": "code",
   "execution_count": 20,
   "metadata": {
    "collapsed": false
   },
   "outputs": [
    {
     "data": {
      "text/html": [
       "<div>\n",
       "<table border=\"1\" class=\"dataframe\">\n",
       "  <thead>\n",
       "    <tr style=\"text-align: right;\">\n",
       "      <th></th>\n",
       "      <th>Fair</th>\n",
       "      <th>Red</th>\n",
       "      <th>Medium</th>\n",
       "      <th>Dark</th>\n",
       "      <th>Black</th>\n",
       "    </tr>\n",
       "  </thead>\n",
       "  <tbody>\n",
       "    <tr>\n",
       "      <th>Blue</th>\n",
       "      <td>0.454039</td>\n",
       "      <td>0.052925</td>\n",
       "      <td>0.335655</td>\n",
       "      <td>0.153203</td>\n",
       "      <td>0.004178</td>\n",
       "    </tr>\n",
       "    <tr>\n",
       "      <th>Light</th>\n",
       "      <td>0.435443</td>\n",
       "      <td>0.073418</td>\n",
       "      <td>0.369620</td>\n",
       "      <td>0.118987</td>\n",
       "      <td>0.002532</td>\n",
       "    </tr>\n",
       "    <tr>\n",
       "      <th>Medium</th>\n",
       "      <td>0.193348</td>\n",
       "      <td>0.047351</td>\n",
       "      <td>0.512401</td>\n",
       "      <td>0.232244</td>\n",
       "      <td>0.014656</td>\n",
       "    </tr>\n",
       "    <tr>\n",
       "      <th>Dark</th>\n",
       "      <td>0.074525</td>\n",
       "      <td>0.036502</td>\n",
       "      <td>0.306464</td>\n",
       "      <td>0.517871</td>\n",
       "      <td>0.064639</td>\n",
       "    </tr>\n",
       "  </tbody>\n",
       "</table>\n",
       "</div>"
      ],
      "text/plain": [
       "            Fair       Red    Medium      Dark     Black\n",
       "Blue    0.454039  0.052925  0.335655  0.153203  0.004178\n",
       "Light   0.435443  0.073418  0.369620  0.118987  0.002532\n",
       "Medium  0.193348  0.047351  0.512401  0.232244  0.014656\n",
       "Dark    0.074525  0.036502  0.306464  0.517871  0.064639"
      ]
     },
     "execution_count": 20,
     "metadata": {},
     "output_type": "execute_result"
    }
   ],
   "source": [
    "ca.row_profiles"
   ]
  },
  {
   "cell_type": "code",
   "execution_count": 24,
   "metadata": {
    "collapsed": false
   },
   "outputs": [
    {
     "data": {
      "text/plain": [
       "Blue      1.0\n",
       "Light     1.0\n",
       "Medium    1.0\n",
       "Dark      1.0\n",
       "dtype: float64"
      ]
     },
     "execution_count": 24,
     "metadata": {},
     "output_type": "execute_result"
    }
   ],
   "source": [
    "ca.row_profiles.sum(axis='columns')"
   ]
  },
  {
   "cell_type": "markdown",
   "metadata": {},
   "source": [
    "The column profiles matrix are obtained in the same fashion, by normalizing $P$ by column. "
   ]
  },
  {
   "cell_type": "code",
   "execution_count": 21,
   "metadata": {
    "collapsed": false
   },
   "outputs": [
    {
     "data": {
      "text/html": [
       "<div>\n",
       "<table border=\"1\" class=\"dataframe\">\n",
       "  <thead>\n",
       "    <tr style=\"text-align: right;\">\n",
       "      <th></th>\n",
       "      <th>Fair</th>\n",
       "      <th>Red</th>\n",
       "      <th>Medium</th>\n",
       "      <th>Dark</th>\n",
       "      <th>Black</th>\n",
       "    </tr>\n",
       "  </thead>\n",
       "  <tbody>\n",
       "    <tr>\n",
       "      <th>Blue</th>\n",
       "      <td>0.224055</td>\n",
       "      <td>0.132867</td>\n",
       "      <td>0.112775</td>\n",
       "      <td>0.079080</td>\n",
       "      <td>0.025424</td>\n",
       "    </tr>\n",
       "    <tr>\n",
       "      <th>Light</th>\n",
       "      <td>0.472852</td>\n",
       "      <td>0.405594</td>\n",
       "      <td>0.273280</td>\n",
       "      <td>0.135155</td>\n",
       "      <td>0.033898</td>\n",
       "    </tr>\n",
       "    <tr>\n",
       "      <th>Medium</th>\n",
       "      <td>0.235739</td>\n",
       "      <td>0.293706</td>\n",
       "      <td>0.425363</td>\n",
       "      <td>0.296190</td>\n",
       "      <td>0.220339</td>\n",
       "    </tr>\n",
       "    <tr>\n",
       "      <th>Dark</th>\n",
       "      <td>0.067354</td>\n",
       "      <td>0.167832</td>\n",
       "      <td>0.188582</td>\n",
       "      <td>0.489576</td>\n",
       "      <td>0.720339</td>\n",
       "    </tr>\n",
       "  </tbody>\n",
       "</table>\n",
       "</div>"
      ],
      "text/plain": [
       "            Fair       Red    Medium      Dark     Black\n",
       "Blue    0.224055  0.132867  0.112775  0.079080  0.025424\n",
       "Light   0.472852  0.405594  0.273280  0.135155  0.033898\n",
       "Medium  0.235739  0.293706  0.425363  0.296190  0.220339\n",
       "Dark    0.067354  0.167832  0.188582  0.489576  0.720339"
      ]
     },
     "execution_count": 21,
     "metadata": {},
     "output_type": "execute_result"
    }
   ],
   "source": [
    "ca.column_profiles"
   ]
  },
  {
   "cell_type": "code",
   "execution_count": 25,
   "metadata": {
    "collapsed": false
   },
   "outputs": [
    {
     "data": {
      "text/plain": [
       "Fair      1.0\n",
       "Red       1.0\n",
       "Medium    1.0\n",
       "Dark      1.0\n",
       "Black     1.0\n",
       "dtype: float64"
      ]
     },
     "execution_count": 25,
     "metadata": {},
     "output_type": "execute_result"
    }
   ],
   "source": [
    "ca.column_profiles.sum(axis='rows')"
   ]
  },
  {
   "cell_type": "markdown",
   "metadata": {},
   "source": [
    "### Row and column masses\n",
    "\n",
    "The row and column masses are nothing more than the row and column frequencies, which are obtained by summing $P$ row-wise and column-wise."
   ]
  },
  {
   "cell_type": "code",
   "execution_count": 29,
   "metadata": {
    "collapsed": false
   },
   "outputs": [
    {
     "data": {
      "text/plain": [
       "Blue      0.133284\n",
       "Light     0.293299\n",
       "Medium    0.329311\n",
       "Dark      0.244106\n",
       "dtype: float64"
      ]
     },
     "execution_count": 29,
     "metadata": {},
     "output_type": "execute_result"
    }
   ],
   "source": [
    "ca.row_sums"
   ]
  },
  {
   "cell_type": "code",
   "execution_count": 30,
   "metadata": {
    "collapsed": false
   },
   "outputs": [
    {
     "data": {
      "text/plain": [
       "Fair      0.270095\n",
       "Red       0.053091\n",
       "Medium    0.396696\n",
       "Dark      0.258214\n",
       "Black     0.021905\n",
       "dtype: float64"
      ]
     },
     "execution_count": 30,
     "metadata": {},
     "output_type": "execute_result"
    }
   ],
   "source": [
    "ca.column_sums"
   ]
  },
  {
   "cell_type": "markdown",
   "metadata": {},
   "source": [
    "### Expected frequencies"
   ]
  },
  {
   "cell_type": "code",
   "execution_count": 34,
   "metadata": {
    "collapsed": false
   },
   "outputs": [
    {
     "data": {
      "text/html": [
       "<div>\n",
       "<table border=\"1\" class=\"dataframe\">\n",
       "  <thead>\n",
       "    <tr style=\"text-align: right;\">\n",
       "      <th></th>\n",
       "      <th>Fair</th>\n",
       "      <th>Red</th>\n",
       "      <th>Medium</th>\n",
       "      <th>Dark</th>\n",
       "      <th>Black</th>\n",
       "    </tr>\n",
       "  </thead>\n",
       "  <tbody>\n",
       "    <tr>\n",
       "      <th>Blue</th>\n",
       "      <td>193.927975</td>\n",
       "      <td>38.119176</td>\n",
       "      <td>284.827548</td>\n",
       "      <td>185.397810</td>\n",
       "      <td>15.727492</td>\n",
       "    </tr>\n",
       "    <tr>\n",
       "      <th>Light</th>\n",
       "      <td>426.749582</td>\n",
       "      <td>83.883423</td>\n",
       "      <td>626.779283</td>\n",
       "      <td>407.978467</td>\n",
       "      <td>34.609244</td>\n",
       "    </tr>\n",
       "    <tr>\n",
       "      <th>Medium</th>\n",
       "      <td>479.147949</td>\n",
       "      <td>94.183033</td>\n",
       "      <td>703.738259</td>\n",
       "      <td>458.072025</td>\n",
       "      <td>38.858734</td>\n",
       "    </tr>\n",
       "    <tr>\n",
       "      <th>Dark</th>\n",
       "      <td>355.174494</td>\n",
       "      <td>69.814368</td>\n",
       "      <td>521.654910</td>\n",
       "      <td>339.551699</td>\n",
       "      <td>28.804529</td>\n",
       "    </tr>\n",
       "  </tbody>\n",
       "</table>\n",
       "</div>"
      ],
      "text/plain": [
       "              Fair        Red      Medium        Dark      Black\n",
       "Blue    193.927975  38.119176  284.827548  185.397810  15.727492\n",
       "Light   426.749582  83.883423  626.779283  407.978467  34.609244\n",
       "Medium  479.147949  94.183033  703.738259  458.072025  38.858734\n",
       "Dark    355.174494  69.814368  521.654910  339.551699  28.804529"
      ]
     },
     "execution_count": 34,
     "metadata": {},
     "output_type": "execute_result"
    }
   ],
   "source": [
    "ca.expected_frequencies * ca.N"
   ]
  },
  {
   "cell_type": "markdown",
   "metadata": {},
   "source": [
    "### Relative frequency matrix"
   ]
  },
  {
   "cell_type": "code",
   "execution_count": 44,
   "metadata": {
    "collapsed": false
   },
   "outputs": [
    {
     "data": {
      "text/html": [
       "<div>\n",
       "<table border=\"1\" class=\"dataframe\">\n",
       "  <thead>\n",
       "    <tr style=\"text-align: right;\">\n",
       "      <th></th>\n",
       "      <th>Fair</th>\n",
       "      <th>Red</th>\n",
       "      <th>Medium</th>\n",
       "      <th>Dark</th>\n",
       "      <th>Black</th>\n",
       "    </tr>\n",
       "  </thead>\n",
       "  <tbody>\n",
       "    <tr>\n",
       "      <th>Blue</th>\n",
       "      <td>0.024517</td>\n",
       "      <td>-0.000022</td>\n",
       "      <td>-0.008136</td>\n",
       "      <td>-0.013996</td>\n",
       "      <td>-0.002363</td>\n",
       "    </tr>\n",
       "    <tr>\n",
       "      <th>Light</th>\n",
       "      <td>0.048496</td>\n",
       "      <td>0.005962</td>\n",
       "      <td>-0.007941</td>\n",
       "      <td>-0.040835</td>\n",
       "      <td>-0.005682</td>\n",
       "    </tr>\n",
       "    <tr>\n",
       "      <th>Medium</th>\n",
       "      <td>-0.025273</td>\n",
       "      <td>-0.001890</td>\n",
       "      <td>0.038103</td>\n",
       "      <td>-0.008552</td>\n",
       "      <td>-0.002387</td>\n",
       "    </tr>\n",
       "    <tr>\n",
       "      <th>Dark</th>\n",
       "      <td>-0.047740</td>\n",
       "      <td>-0.004049</td>\n",
       "      <td>-0.022026</td>\n",
       "      <td>0.063384</td>\n",
       "      <td>0.010432</td>\n",
       "    </tr>\n",
       "  </tbody>\n",
       "</table>\n",
       "</div>"
      ],
      "text/plain": [
       "            Fair       Red    Medium      Dark     Black\n",
       "Blue    0.024517 -0.000022 -0.008136 -0.013996 -0.002363\n",
       "Light   0.048496  0.005962 -0.007941 -0.040835 -0.005682\n",
       "Medium -0.025273 -0.001890  0.038103 -0.008552 -0.002387\n",
       "Dark   -0.047740 -0.004049 -0.022026  0.063384  0.010432"
      ]
     },
     "execution_count": 44,
     "metadata": {},
     "output_type": "execute_result"
    }
   ],
   "source": [
    "ca.P - ca.expected_frequencies"
   ]
  },
  {
   "cell_type": "markdown",
   "metadata": {},
   "source": [
    "### Residuals matrix"
   ]
  },
  {
   "cell_type": "code",
   "execution_count": 47,
   "metadata": {
    "collapsed": false
   },
   "outputs": [
    {
     "data": {
      "text/html": [
       "<div>\n",
       "<table border=\"1\" class=\"dataframe\">\n",
       "  <thead>\n",
       "    <tr style=\"text-align: right;\">\n",
       "      <th></th>\n",
       "      <th>Fair</th>\n",
       "      <th>Red</th>\n",
       "      <th>Medium</th>\n",
       "      <th>Dark</th>\n",
       "      <th>Black</th>\n",
       "    </tr>\n",
       "  </thead>\n",
       "  <tbody>\n",
       "    <tr>\n",
       "      <th>Blue</th>\n",
       "      <td>132.072025</td>\n",
       "      <td>-0.119176</td>\n",
       "      <td>-43.827548</td>\n",
       "      <td>-75.397810</td>\n",
       "      <td>-12.727492</td>\n",
       "    </tr>\n",
       "    <tr>\n",
       "      <th>Light</th>\n",
       "      <td>261.250418</td>\n",
       "      <td>32.116577</td>\n",
       "      <td>-42.779283</td>\n",
       "      <td>-219.978467</td>\n",
       "      <td>-30.609244</td>\n",
       "    </tr>\n",
       "    <tr>\n",
       "      <th>Medium</th>\n",
       "      <td>-136.147949</td>\n",
       "      <td>-10.183033</td>\n",
       "      <td>205.261741</td>\n",
       "      <td>-46.072025</td>\n",
       "      <td>-12.858734</td>\n",
       "    </tr>\n",
       "    <tr>\n",
       "      <th>Dark</th>\n",
       "      <td>-257.174494</td>\n",
       "      <td>-21.814368</td>\n",
       "      <td>-118.654910</td>\n",
       "      <td>341.448301</td>\n",
       "      <td>56.195471</td>\n",
       "    </tr>\n",
       "  </tbody>\n",
       "</table>\n",
       "</div>"
      ],
      "text/plain": [
       "              Fair        Red      Medium        Dark      Black\n",
       "Blue    132.072025  -0.119176  -43.827548  -75.397810 -12.727492\n",
       "Light   261.250418  32.116577  -42.779283 -219.978467 -30.609244\n",
       "Medium -136.147949 -10.183033  205.261741  -46.072025 -12.858734\n",
       "Dark   -257.174494 -21.814368 -118.654910  341.448301  56.195471"
      ]
     },
     "execution_count": 47,
     "metadata": {},
     "output_type": "execute_result"
    }
   ],
   "source": [
    "(ca.P - ca.expected_frequencies) * ca.N"
   ]
  },
  {
   "cell_type": "markdown",
   "metadata": {},
   "source": [
    "### Explained inertia"
   ]
  },
  {
   "cell_type": "code",
   "execution_count": 42,
   "metadata": {
    "collapsed": false
   },
   "outputs": [
    {
     "data": {
      "text/plain": [
       "[0.86519871487199929,\n",
       " 0.12945798649306905,\n",
       " 0.0036760220486457156,\n",
       " 7.3778217919796355e-36]"
      ]
     },
     "execution_count": 42,
     "metadata": {},
     "output_type": "execute_result"
    }
   ],
   "source": [
    "ca.explained_inertia"
   ]
  },
  {
   "cell_type": "code",
   "execution_count": 54,
   "metadata": {
    "collapsed": false
   },
   "outputs": [
    {
     "data": {
      "text/plain": [
       "array([[-0.11576377,  0.10998475,  0.27288272,  0.18254029],\n",
       "       [-0.28404093,  0.12454015, -0.35183023,  0.27078528],\n",
       "       [ 0.03051955, -0.49560161,  0.02076243,  0.28692826],\n",
       "       [ 0.38951773,  0.16423449, -0.06620127,  0.24703551]])"
      ]
     },
     "execution_count": 54,
     "metadata": {},
     "output_type": "execute_result"
    }
   ],
   "source": [
    "np.sqrt(np.diag(ca.row_sums)) @ ca.svd.U"
   ]
  }
 ],
 "metadata": {
  "kernelspec": {
   "display_name": "Python 3",
   "language": "python",
   "name": "python3"
  },
  "language_info": {
   "codemirror_mode": {
    "name": "ipython",
    "version": 3
   },
   "file_extension": ".py",
   "mimetype": "text/x-python",
   "name": "python",
   "nbconvert_exporter": "python",
   "pygments_lexer": "ipython3",
   "version": "3.6.0"
  }
 },
 "nbformat": 4,
 "nbformat_minor": 2
}
