{
 "cells": [
  {
   "cell_type": "markdown",
   "metadata": {},
   "source": [
    "# Principal Component Analysis (PCA)"
   ]
  },
  {
   "cell_type": "code",
   "execution_count": 3,
   "metadata": {
    "collapsed": true
   },
   "outputs": [],
   "source": [
    "import pandas as pd\n",
    "import prince\n",
    "\n",
    "%matplotlib inline"
   ]
  },
  {
   "cell_type": "markdown",
   "metadata": {},
   "source": [
    "For this notebook we will be using bike sharing data from the city of Toulouse."
   ]
  },
  {
   "cell_type": "code",
   "execution_count": 4,
   "metadata": {
    "collapsed": false
   },
   "outputs": [
    {
     "data": {
      "text/html": [
       "<div>\n",
       "<table border=\"1\" class=\"dataframe\">\n",
       "  <thead>\n",
       "    <tr style=\"text-align: right;\">\n",
       "      <th></th>\n",
       "      <th>0-0</th>\n",
       "      <th>1-0</th>\n",
       "      <th>2-0</th>\n",
       "      <th>3-0</th>\n",
       "      <th>4-0</th>\n",
       "      <th>5-0</th>\n",
       "      <th>6-0</th>\n",
       "      <th>0-1</th>\n",
       "      <th>1-1</th>\n",
       "      <th>2-1</th>\n",
       "      <th>...</th>\n",
       "      <th>0-23</th>\n",
       "      <th>1-23</th>\n",
       "      <th>2-23</th>\n",
       "      <th>3-23</th>\n",
       "      <th>4-23</th>\n",
       "      <th>5-23</th>\n",
       "      <th>6-23</th>\n",
       "      <th>latitude</th>\n",
       "      <th>longitude</th>\n",
       "      <th>altitude</th>\n",
       "    </tr>\n",
       "  </thead>\n",
       "  <tbody>\n",
       "    <tr>\n",
       "      <th>00189 - MURET BOUTINON</th>\n",
       "      <td>0.890442</td>\n",
       "      <td>0.783402</td>\n",
       "      <td>0.754204</td>\n",
       "      <td>0.694712</td>\n",
       "      <td>0.644286</td>\n",
       "      <td>0.520034</td>\n",
       "      <td>0.593616</td>\n",
       "      <td>0.899294</td>\n",
       "      <td>0.828925</td>\n",
       "      <td>0.796468</td>\n",
       "      <td>...</td>\n",
       "      <td>0.764102</td>\n",
       "      <td>0.675706</td>\n",
       "      <td>0.656017</td>\n",
       "      <td>0.562182</td>\n",
       "      <td>0.501754</td>\n",
       "      <td>0.550409</td>\n",
       "      <td>0.861733</td>\n",
       "      <td>43.581352</td>\n",
       "      <td>1.425326</td>\n",
       "      <td>145.218811</td>\n",
       "    </tr>\n",
       "    <tr>\n",
       "      <th>00157 - U.R.S.S  PEYROUSET</th>\n",
       "      <td>0.794423</td>\n",
       "      <td>0.694662</td>\n",
       "      <td>0.666052</td>\n",
       "      <td>0.611976</td>\n",
       "      <td>0.727828</td>\n",
       "      <td>0.685627</td>\n",
       "      <td>0.744462</td>\n",
       "      <td>0.796654</td>\n",
       "      <td>0.734205</td>\n",
       "      <td>0.721514</td>\n",
       "      <td>...</td>\n",
       "      <td>0.682245</td>\n",
       "      <td>0.617044</td>\n",
       "      <td>0.673086</td>\n",
       "      <td>0.697583</td>\n",
       "      <td>0.673767</td>\n",
       "      <td>0.717911</td>\n",
       "      <td>0.786854</td>\n",
       "      <td>43.582832</td>\n",
       "      <td>1.448634</td>\n",
       "      <td>149.000000</td>\n",
       "    </tr>\n",
       "    <tr>\n",
       "      <th>00069 - FEUGA</th>\n",
       "      <td>0.237852</td>\n",
       "      <td>0.246162</td>\n",
       "      <td>0.339617</td>\n",
       "      <td>0.288618</td>\n",
       "      <td>0.334571</td>\n",
       "      <td>0.341950</td>\n",
       "      <td>0.300178</td>\n",
       "      <td>0.251663</td>\n",
       "      <td>0.240979</td>\n",
       "      <td>0.348627</td>\n",
       "      <td>...</td>\n",
       "      <td>0.274072</td>\n",
       "      <td>0.321278</td>\n",
       "      <td>0.310949</td>\n",
       "      <td>0.376079</td>\n",
       "      <td>0.406024</td>\n",
       "      <td>0.335113</td>\n",
       "      <td>0.251404</td>\n",
       "      <td>43.592530</td>\n",
       "      <td>1.442900</td>\n",
       "      <td>145.611435</td>\n",
       "    </tr>\n",
       "    <tr>\n",
       "      <th>00181 - PLANA GARNIER</th>\n",
       "      <td>0.677826</td>\n",
       "      <td>0.659270</td>\n",
       "      <td>0.711563</td>\n",
       "      <td>0.626856</td>\n",
       "      <td>0.620313</td>\n",
       "      <td>0.676800</td>\n",
       "      <td>0.536205</td>\n",
       "      <td>0.691771</td>\n",
       "      <td>0.671441</td>\n",
       "      <td>0.712834</td>\n",
       "      <td>...</td>\n",
       "      <td>0.638449</td>\n",
       "      <td>0.674415</td>\n",
       "      <td>0.595292</td>\n",
       "      <td>0.612726</td>\n",
       "      <td>0.681631</td>\n",
       "      <td>0.556120</td>\n",
       "      <td>0.673393</td>\n",
       "      <td>43.610549</td>\n",
       "      <td>1.479500</td>\n",
       "      <td>141.108444</td>\n",
       "    </tr>\n",
       "    <tr>\n",
       "      <th>00014 - PERIGORD</th>\n",
       "      <td>0.377450</td>\n",
       "      <td>0.221058</td>\n",
       "      <td>0.165181</td>\n",
       "      <td>0.175972</td>\n",
       "      <td>0.234515</td>\n",
       "      <td>0.299102</td>\n",
       "      <td>0.425212</td>\n",
       "      <td>0.324483</td>\n",
       "      <td>0.198676</td>\n",
       "      <td>0.123316</td>\n",
       "      <td>...</td>\n",
       "      <td>0.241303</td>\n",
       "      <td>0.166612</td>\n",
       "      <td>0.218694</td>\n",
       "      <td>0.262935</td>\n",
       "      <td>0.294839</td>\n",
       "      <td>0.476275</td>\n",
       "      <td>0.371588</td>\n",
       "      <td>43.607352</td>\n",
       "      <td>1.444270</td>\n",
       "      <td>150.409821</td>\n",
       "    </tr>\n",
       "  </tbody>\n",
       "</table>\n",
       "<p>5 rows × 171 columns</p>\n",
       "</div>"
      ],
      "text/plain": [
       "                                 0-0       1-0       2-0       3-0       4-0  \\\n",
       "00189 - MURET BOUTINON      0.890442  0.783402  0.754204  0.694712  0.644286   \n",
       "00157 - U.R.S.S  PEYROUSET  0.794423  0.694662  0.666052  0.611976  0.727828   \n",
       "00069 - FEUGA               0.237852  0.246162  0.339617  0.288618  0.334571   \n",
       "00181 - PLANA GARNIER       0.677826  0.659270  0.711563  0.626856  0.620313   \n",
       "00014 - PERIGORD            0.377450  0.221058  0.165181  0.175972  0.234515   \n",
       "\n",
       "                                 5-0       6-0       0-1       1-1       2-1  \\\n",
       "00189 - MURET BOUTINON      0.520034  0.593616  0.899294  0.828925  0.796468   \n",
       "00157 - U.R.S.S  PEYROUSET  0.685627  0.744462  0.796654  0.734205  0.721514   \n",
       "00069 - FEUGA               0.341950  0.300178  0.251663  0.240979  0.348627   \n",
       "00181 - PLANA GARNIER       0.676800  0.536205  0.691771  0.671441  0.712834   \n",
       "00014 - PERIGORD            0.299102  0.425212  0.324483  0.198676  0.123316   \n",
       "\n",
       "                               ...          0-23      1-23      2-23  \\\n",
       "00189 - MURET BOUTINON         ...      0.764102  0.675706  0.656017   \n",
       "00157 - U.R.S.S  PEYROUSET     ...      0.682245  0.617044  0.673086   \n",
       "00069 - FEUGA                  ...      0.274072  0.321278  0.310949   \n",
       "00181 - PLANA GARNIER          ...      0.638449  0.674415  0.595292   \n",
       "00014 - PERIGORD               ...      0.241303  0.166612  0.218694   \n",
       "\n",
       "                                3-23      4-23      5-23      6-23   latitude  \\\n",
       "00189 - MURET BOUTINON      0.562182  0.501754  0.550409  0.861733  43.581352   \n",
       "00157 - U.R.S.S  PEYROUSET  0.697583  0.673767  0.717911  0.786854  43.582832   \n",
       "00069 - FEUGA               0.376079  0.406024  0.335113  0.251404  43.592530   \n",
       "00181 - PLANA GARNIER       0.612726  0.681631  0.556120  0.673393  43.610549   \n",
       "00014 - PERIGORD            0.262935  0.294839  0.476275  0.371588  43.607352   \n",
       "\n",
       "                            longitude    altitude  \n",
       "00189 - MURET BOUTINON       1.425326  145.218811  \n",
       "00157 - U.R.S.S  PEYROUSET   1.448634  149.000000  \n",
       "00069 - FEUGA                1.442900  145.611435  \n",
       "00181 - PLANA GARNIER        1.479500  141.108444  \n",
       "00014 - PERIGORD             1.444270  150.409821  \n",
       "\n",
       "[5 rows x 171 columns]"
      ]
     },
     "execution_count": 4,
     "metadata": {},
     "output_type": "execute_result"
    }
   ],
   "source": [
    "df = pd.read_csv('data/bike_stations.csv', index_col=0)\n",
    "df.head(5)"
   ]
  },
  {
   "cell_type": "markdown",
   "metadata": {},
   "source": [
    "Each cell contains the average $\\frac{bikes}{bikes + spaces}$ ratio. Each column name is a weekday-hour pair (with weekdays starting at 0). For example, the *00189 - Muret Boutinon* station is on average 89% full on Mondays at midnight (first row, first column). \n",
    "\n",
    "The last three columns contain information about the location of each station (latitude, longitude and altitude)."
   ]
  },
  {
   "cell_type": "code",
   "execution_count": 6,
   "metadata": {
    "collapsed": false
   },
   "outputs": [
    {
     "ename": "OSError",
     "evalue": "'prince/plot/mpl/prince.mplstyle' not found in the style library and input is not a valid URL or path. See `style.available` for list of available styles.",
     "output_type": "error",
     "traceback": [
      "\u001b[0;31m---------------------------------------------------------------------------\u001b[0m",
      "\u001b[0;31mFileNotFoundError\u001b[0m                         Traceback (most recent call last)",
      "\u001b[0;32m/Users/maxhalford/anaconda/lib/python3.5/site-packages/matplotlib/style/core.py\u001b[0m in \u001b[0;36muse\u001b[0;34m(style)\u001b[0m\n\u001b[1;32m     83\u001b[0m             \u001b[0;32mtry\u001b[0m\u001b[0;34m:\u001b[0m\u001b[0;34m\u001b[0m\u001b[0m\n\u001b[0;32m---> 84\u001b[0;31m                 \u001b[0mrc\u001b[0m \u001b[0;34m=\u001b[0m \u001b[0mrc_params_from_file\u001b[0m\u001b[0;34m(\u001b[0m\u001b[0mstyle\u001b[0m\u001b[0;34m,\u001b[0m \u001b[0muse_default_template\u001b[0m\u001b[0;34m=\u001b[0m\u001b[0;32mFalse\u001b[0m\u001b[0;34m)\u001b[0m\u001b[0;34m\u001b[0m\u001b[0m\n\u001b[0m\u001b[1;32m     85\u001b[0m                 \u001b[0mmpl\u001b[0m\u001b[0;34m.\u001b[0m\u001b[0mrcParams\u001b[0m\u001b[0;34m.\u001b[0m\u001b[0mupdate\u001b[0m\u001b[0;34m(\u001b[0m\u001b[0mrc\u001b[0m\u001b[0;34m)\u001b[0m\u001b[0;34m\u001b[0m\u001b[0m\n",
      "\u001b[0;32m/Users/maxhalford/anaconda/lib/python3.5/site-packages/matplotlib/__init__.py\u001b[0m in \u001b[0;36mrc_params_from_file\u001b[0;34m(fname, fail_on_error, use_default_template)\u001b[0m\n\u001b[1;32m   1099\u001b[0m     \"\"\"\n\u001b[0;32m-> 1100\u001b[0;31m     \u001b[0mconfig_from_file\u001b[0m \u001b[0;34m=\u001b[0m \u001b[0m_rc_params_in_file\u001b[0m\u001b[0;34m(\u001b[0m\u001b[0mfname\u001b[0m\u001b[0;34m,\u001b[0m \u001b[0mfail_on_error\u001b[0m\u001b[0;34m)\u001b[0m\u001b[0;34m\u001b[0m\u001b[0m\n\u001b[0m\u001b[1;32m   1101\u001b[0m \u001b[0;34m\u001b[0m\u001b[0m\n",
      "\u001b[0;32m/Users/maxhalford/anaconda/lib/python3.5/site-packages/matplotlib/__init__.py\u001b[0m in \u001b[0;36m_rc_params_in_file\u001b[0;34m(fname, fail_on_error)\u001b[0m\n\u001b[1;32m   1017\u001b[0m     \u001b[0mrc_temp\u001b[0m \u001b[0;34m=\u001b[0m \u001b[0;34m{\u001b[0m\u001b[0;34m}\u001b[0m\u001b[0;34m\u001b[0m\u001b[0m\n\u001b[0;32m-> 1018\u001b[0;31m     \u001b[0;32mwith\u001b[0m \u001b[0m_open_file_or_url\u001b[0m\u001b[0;34m(\u001b[0m\u001b[0mfname\u001b[0m\u001b[0;34m)\u001b[0m \u001b[0;32mas\u001b[0m \u001b[0mfd\u001b[0m\u001b[0;34m:\u001b[0m\u001b[0;34m\u001b[0m\u001b[0m\n\u001b[0m\u001b[1;32m   1019\u001b[0m         \u001b[0;32mtry\u001b[0m\u001b[0;34m:\u001b[0m\u001b[0;34m\u001b[0m\u001b[0m\n",
      "\u001b[0;32m/Users/maxhalford/anaconda/lib/python3.5/contextlib.py\u001b[0m in \u001b[0;36m__enter__\u001b[0;34m(self)\u001b[0m\n\u001b[1;32m     58\u001b[0m         \u001b[0;32mtry\u001b[0m\u001b[0;34m:\u001b[0m\u001b[0;34m\u001b[0m\u001b[0m\n\u001b[0;32m---> 59\u001b[0;31m             \u001b[0;32mreturn\u001b[0m \u001b[0mnext\u001b[0m\u001b[0;34m(\u001b[0m\u001b[0mself\u001b[0m\u001b[0;34m.\u001b[0m\u001b[0mgen\u001b[0m\u001b[0;34m)\u001b[0m\u001b[0;34m\u001b[0m\u001b[0m\n\u001b[0m\u001b[1;32m     60\u001b[0m         \u001b[0;32mexcept\u001b[0m \u001b[0mStopIteration\u001b[0m\u001b[0;34m:\u001b[0m\u001b[0;34m\u001b[0m\u001b[0m\n",
      "\u001b[0;32m/Users/maxhalford/anaconda/lib/python3.5/site-packages/matplotlib/__init__.py\u001b[0m in \u001b[0;36m_open_file_or_url\u001b[0;34m(fname)\u001b[0m\n\u001b[1;32m   1002\u001b[0m             \u001b[0mencoding\u001b[0m \u001b[0;34m=\u001b[0m \u001b[0;34m\"utf-8\"\u001b[0m\u001b[0;34m\u001b[0m\u001b[0m\n\u001b[0;32m-> 1003\u001b[0;31m         \u001b[0;32mwith\u001b[0m \u001b[0mio\u001b[0m\u001b[0;34m.\u001b[0m\u001b[0mopen\u001b[0m\u001b[0;34m(\u001b[0m\u001b[0mfname\u001b[0m\u001b[0;34m,\u001b[0m \u001b[0mencoding\u001b[0m\u001b[0;34m=\u001b[0m\u001b[0mencoding\u001b[0m\u001b[0;34m)\u001b[0m \u001b[0;32mas\u001b[0m \u001b[0mf\u001b[0m\u001b[0;34m:\u001b[0m\u001b[0;34m\u001b[0m\u001b[0m\n\u001b[0m\u001b[1;32m   1004\u001b[0m             \u001b[0;32myield\u001b[0m \u001b[0mf\u001b[0m\u001b[0;34m\u001b[0m\u001b[0m\n",
      "\u001b[0;31mFileNotFoundError\u001b[0m: [Errno 2] No such file or directory: 'prince/plot/mpl/prince.mplstyle'",
      "\nDuring handling of the above exception, another exception occurred:\n",
      "\u001b[0;31mOSError\u001b[0m                                   Traceback (most recent call last)",
      "\u001b[0;32m<ipython-input-6-ace48bd6c015>\u001b[0m in \u001b[0;36m<module>\u001b[0;34m()\u001b[0m\n\u001b[0;32m----> 1\u001b[0;31m \u001b[0mpca\u001b[0m \u001b[0;34m=\u001b[0m \u001b[0mprince\u001b[0m\u001b[0;34m.\u001b[0m\u001b[0mPCA\u001b[0m\u001b[0;34m(\u001b[0m\u001b[0mdf\u001b[0m\u001b[0;34m)\u001b[0m\u001b[0;34m\u001b[0m\u001b[0m\n\u001b[0m",
      "\u001b[0;32m/Users/maxhalford/anaconda/lib/python3.5/site-packages/prince/pca.py\u001b[0m in \u001b[0;36m__init__\u001b[0;34m(self, dataframe, n_components, ignored_variable_names, scaled, plotter)\u001b[0m\n\u001b[1;32m     25\u001b[0m         \u001b[0msuper\u001b[0m\u001b[0;34m(\u001b[0m\u001b[0mPCA\u001b[0m\u001b[0;34m,\u001b[0m \u001b[0mself\u001b[0m\u001b[0;34m)\u001b[0m\u001b[0;34m.\u001b[0m\u001b[0m__init__\u001b[0m\u001b[0;34m(\u001b[0m\u001b[0mdataframe\u001b[0m\u001b[0;34m=\u001b[0m\u001b[0mdataframe\u001b[0m\u001b[0;34m,\u001b[0m \u001b[0mk\u001b[0m\u001b[0;34m=\u001b[0m\u001b[0mn_components\u001b[0m\u001b[0;34m,\u001b[0m \u001b[0mplotter\u001b[0m\u001b[0;34m=\u001b[0m\u001b[0mplotter\u001b[0m\u001b[0;34m)\u001b[0m\u001b[0;34m\u001b[0m\u001b[0m\n\u001b[1;32m     26\u001b[0m \u001b[0;34m\u001b[0m\u001b[0m\n\u001b[0;32m---> 27\u001b[0;31m         \u001b[0mself\u001b[0m\u001b[0;34m.\u001b[0m\u001b[0m_set_plotter\u001b[0m\u001b[0;34m(\u001b[0m\u001b[0mplotter\u001b[0m\u001b[0;34m)\u001b[0m\u001b[0;34m\u001b[0m\u001b[0m\n\u001b[0m\u001b[1;32m     28\u001b[0m \u001b[0;34m\u001b[0m\u001b[0m\n\u001b[1;32m     29\u001b[0m         \u001b[0mself\u001b[0m\u001b[0;34m.\u001b[0m\u001b[0m_preprocess\u001b[0m\u001b[0;34m(\u001b[0m\u001b[0mself\u001b[0m\u001b[0;34m.\u001b[0m\u001b[0mX\u001b[0m\u001b[0;34m)\u001b[0m\u001b[0;34m\u001b[0m\u001b[0m\n",
      "\u001b[0;32m/Users/maxhalford/anaconda/lib/python3.5/site-packages/prince/pca.py\u001b[0m in \u001b[0;36m_set_plotter\u001b[0;34m(self, plotter_name)\u001b[0m\n\u001b[1;32m     35\u001b[0m     \u001b[0;32mdef\u001b[0m \u001b[0m_set_plotter\u001b[0m\u001b[0;34m(\u001b[0m\u001b[0mself\u001b[0m\u001b[0;34m,\u001b[0m \u001b[0mplotter_name\u001b[0m\u001b[0;34m)\u001b[0m\u001b[0;34m:\u001b[0m\u001b[0;34m\u001b[0m\u001b[0m\n\u001b[1;32m     36\u001b[0m         self.plotter = {\n\u001b[0;32m---> 37\u001b[0;31m             \u001b[0;34m'mpl'\u001b[0m\u001b[0;34m:\u001b[0m \u001b[0mMplPCAPlotter\u001b[0m\u001b[0;34m(\u001b[0m\u001b[0;34m)\u001b[0m\u001b[0;34m\u001b[0m\u001b[0m\n\u001b[0m\u001b[1;32m     38\u001b[0m         }[plotter_name]\n\u001b[1;32m     39\u001b[0m \u001b[0;34m\u001b[0m\u001b[0m\n",
      "\u001b[0;32m/Users/maxhalford/anaconda/lib/python3.5/site-packages/prince/plot/mpl/__init__.py\u001b[0m in \u001b[0;36m__init__\u001b[0;34m(self)\u001b[0m\n\u001b[1;32m     20\u001b[0m         }\n\u001b[1;32m     21\u001b[0m \u001b[0;34m\u001b[0m\u001b[0m\n\u001b[0;32m---> 22\u001b[0;31m         \u001b[0mplt\u001b[0m\u001b[0;34m.\u001b[0m\u001b[0mstyle\u001b[0m\u001b[0;34m.\u001b[0m\u001b[0muse\u001b[0m\u001b[0;34m(\u001b[0m\u001b[0;34m'prince/plot/mpl/prince.mplstyle'\u001b[0m\u001b[0;34m)\u001b[0m\u001b[0;34m\u001b[0m\u001b[0m\n\u001b[0m\u001b[1;32m     23\u001b[0m \u001b[0;34m\u001b[0m\u001b[0m\n\u001b[1;32m     24\u001b[0m     \u001b[0;32mdef\u001b[0m \u001b[0minertia\u001b[0m\u001b[0;34m(\u001b[0m\u001b[0mself\u001b[0m\u001b[0;34m,\u001b[0m \u001b[0mexplained_inertia\u001b[0m\u001b[0;34m)\u001b[0m\u001b[0;34m:\u001b[0m\u001b[0;34m\u001b[0m\u001b[0m\n",
      "\u001b[0;32m/Users/maxhalford/anaconda/lib/python3.5/site-packages/matplotlib/style/core.py\u001b[0m in \u001b[0;36muse\u001b[0;34m(style)\u001b[0m\n\u001b[1;32m     88\u001b[0m                        \u001b[0;34m\"not a valid URL or path. See `style.available` for \"\u001b[0m\u001b[0;34m\u001b[0m\u001b[0m\n\u001b[1;32m     89\u001b[0m                        \"list of available styles.\")\n\u001b[0;32m---> 90\u001b[0;31m                 \u001b[0;32mraise\u001b[0m \u001b[0mIOError\u001b[0m\u001b[0;34m(\u001b[0m\u001b[0mmsg\u001b[0m \u001b[0;34m%\u001b[0m \u001b[0mstyle\u001b[0m\u001b[0;34m)\u001b[0m\u001b[0;34m\u001b[0m\u001b[0m\n\u001b[0m\u001b[1;32m     91\u001b[0m \u001b[0;34m\u001b[0m\u001b[0m\n\u001b[1;32m     92\u001b[0m \u001b[0;34m\u001b[0m\u001b[0m\n",
      "\u001b[0;31mOSError\u001b[0m: 'prince/plot/mpl/prince.mplstyle' not found in the style library and input is not a valid URL or path. See `style.available` for list of available styles."
     ]
    }
   ],
   "source": [
    "pca = prince.PCA(df)"
   ]
  },
  {
   "cell_type": "code",
   "execution_count": null,
   "metadata": {
    "collapsed": true
   },
   "outputs": [],
   "source": []
  }
 ],
 "metadata": {
  "kernelspec": {
   "display_name": "Python 3",
   "language": "python",
   "name": "python3"
  },
  "language_info": {
   "codemirror_mode": {
    "name": "ipython",
    "version": 3
   },
   "file_extension": ".py",
   "mimetype": "text/x-python",
   "name": "python",
   "nbconvert_exporter": "python",
   "pygments_lexer": "ipython3",
   "version": "3.5.2"
  }
 },
 "nbformat": 4,
 "nbformat_minor": 0
}
